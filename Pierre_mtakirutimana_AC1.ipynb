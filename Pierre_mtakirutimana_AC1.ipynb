{
 "cells": [
  {
   "cell_type": "markdown",
   "id": "first-semiconductor",
   "metadata": {},
   "source": [
    "# Exercises 1.4\n",
    "\n",
    "This is  group of functions that will calculate the $\\phi(n)$ of a number and the second function will give you the digits whose $\\phi(n)=a$, where $a$ is a number you can enter from they keyboard. \n",
    "WE tested with $a=24$ as it was given in exercises 1.4 of homework 1. "
   ]
  },
  {
   "cell_type": "code",
   "execution_count": 1,
   "id": "applied-mouth",
   "metadata": {},
   "outputs": [
    {
     "name": "stdout",
     "output_type": "stream",
     "text": [
      "Numbers with phi(n)=24 are  [35, 39, 45, 52, 56, 70, 72, 78, 84, 90]\n",
      "In total they are  10\n"
     ]
    }
   ],
   "source": [
    "def EulerTheorem(a):\n",
    "    phi = 1\n",
    "    NUMBERS=[]\n",
    "    for prime, power in factor(a):\n",
    "        phi *= prime**power - prime**(power-1)\n",
    "    return phi\n",
    "\n",
    "def phi(a):    \n",
    "    v=[]\n",
    "    for i in range(2,100):\n",
    "        if EulerTheorem(i) ==a:\n",
    "            v.append(i)\n",
    "    return [v,len(v)]\n",
    "\n",
    "#Solving the given problem\n",
    "numbers,count=phi(24)\n",
    "print('Numbers with phi(n)=24 are ',numbers)\n",
    "print('In total they are ', count)"
   ]
  },
  {
   "cell_type": "markdown",
   "id": "optional-physiology",
   "metadata": {},
   "source": [
    "# Changing words to numbers and vice-versa\n",
    "\n",
    "This Function will change any message a person can enter from normal keyboard keys into numbers with space=10, a=11,...z=36 and other punctuations that are used in our dailylife. And it will aslo be used to bring message back again (Algorithm will return message in uppercase letters.)."
   ]
  },
  {
   "cell_type": "code",
   "execution_count": 2,
   "id": "forward-certificate",
   "metadata": {},
   "outputs": [],
   "source": [
    "#Creation numbers from text\n",
    "def Cipher(PlainText):\n",
    "    import string as st\n",
    "    cipherr=''\n",
    "    letters=f'{st.digits}'+' '+st.ascii_lowercase+st.punctuation\n",
    "    for i in PlainText.lower():\n",
    "            cipherr+=str(letters.find(i))            \n",
    "    return cipherr\n",
    "\n",
    "#Coming back to plain text\n",
    "def Plain_text(cipherr):\n",
    "    import string as st\n",
    "    letters=f'{st.digits}'+' '+st.ascii_uppercase+st.punctuation\n",
    "    cipherr= str(cipherr)\n",
    "    plain=''\n",
    "    for i in range (len(cipherr)//2):\n",
    "        letter= cipherr[2*i:2*i+2]\n",
    "        if letter== '00':\n",
    "            plain=plain+' '\n",
    "        else:\n",
    "            plain= plain+letters[int(letter)]\n",
    "    return plain"
   ]
  },
  {
   "cell_type": "code",
   "execution_count": null,
   "id": "cloudy-vermont",
   "metadata": {},
   "outputs": [],
   "source": []
  },
  {
   "cell_type": "markdown",
   "id": "established-bunch",
   "metadata": {},
   "source": [
    "# Extended Eucledean Algorithm\n",
    "This is an group of functions that use extended Eucledean algorithm $au+bv=gcd(a,b)$, to show the gcd of a number. Second function will Calculate and show the inverse of a number entered."
   ]
  },
  {
   "cell_type": "code",
   "execution_count": 3,
   "id": "compliant-makeup",
   "metadata": {},
   "outputs": [],
   "source": [
    "#Extended Eucleadian division\n",
    "def ExtendedEcleadean(a,b):\n",
    "    ui=1;vi=0;u1=0;v1=1;r=1\n",
    "    while r!=0:\n",
    "        r=a%b; u=ui-(u1*(a//b)); v=vi-(v1*(a//b))\n",
    "        ui=u1; vi=v1;a=b; b=r;u1=u; v1=v\n",
    "    return(a,ui,vi)\n",
    "\n",
    "#This function will calculate the inverse of a number using the above function\n",
    "def inverses(p,q):\n",
    "    GCD,U,V=ExtendedEcleadean(p,q)\n",
    "    if GCD!=1:\n",
    "        return 'It has no inverse'\n",
    "    else:    \n",
    "        return mod(U,q)\n"
   ]
  },
  {
   "cell_type": "markdown",
   "id": "african-sunday",
   "metadata": {},
   "source": [
    "# Robin Miller\n",
    "This is a test to see if a big number is likely to be a prime number"
   ]
  },
  {
   "cell_type": "code",
   "execution_count": 4,
   "id": "valuable-safety",
   "metadata": {},
   "outputs": [],
   "source": [
    "def Rabin_Miller(b,n):\n",
    "    gcd,u,v=ExtendedEcleadean(b,n)\n",
    "    if gcd>1:\n",
    "        return \"is composite\"\n",
    "    else:\n",
    "        s=1\n",
    "        t=int((n-1)/2)\n",
    "        while t%2==0:\n",
    "            s=s+1\n",
    "            t=int(t/2)\n",
    "        l=[ power_mod(b,t*(2**i),n) for i in range(s)]\n",
    "        if power_mod(b,t,n)!=mod(1,n) and n-1 not in l:\n",
    "            return \"is composite\"\n",
    "        else:\n",
    "            return \"is inconclusive\"\n",
    "def test(n,k=50):\n",
    "    for i in range (k):\n",
    "        b=randint(2,n-1)\n",
    "        if Rabin_Miller(b,n)==\"is composite\":\n",
    "            return False\n",
    "    return True"
   ]
  },
  {
   "cell_type": "markdown",
   "id": "native-combine",
   "metadata": {},
   "source": [
    "# Prime Generator\n",
    "Prime Generator function uses Robin Miller Test to generate a verg big prime betweer $2^{(n-1)/2}$ and $2^{n/2}$. This number will be used in encypting a message"
   ]
  },
  {
   "cell_type": "code",
   "execution_count": 5,
   "id": "tropical-denver",
   "metadata": {},
   "outputs": [],
   "source": [
    "def Generator(n,k=50):\n",
    "    zz=2**((n-1)/2)\n",
    "    p=randint(ceil(zz), floor(sqrt(2)*zz))\n",
    "    while test(p)==False:\n",
    "        p=randint(ceil(zz), floor(sqrt(2)*zz))\n",
    "    return p"
   ]
  },
  {
   "cell_type": "markdown",
   "id": "breeding-notebook",
   "metadata": {},
   "source": [
    "# Key Generator (The below cell may take a bit of time)\n",
    "This generate public and private key using RSA alogorithm we studied in class."
   ]
  },
  {
   "cell_type": "markdown",
   "id": "normal-circulation",
   "metadata": {},
   "source": [
    "\n"
   ]
  },
  {
   "cell_type": "code",
   "execution_count": 6,
   "id": "exclusive-meaning",
   "metadata": {},
   "outputs": [
    {
     "name": "stdout",
     "output_type": "stream",
     "text": [
      "My public key:\n",
      "  (21770745113409042754842294825583542565284924800169676920887290747604014309825933297503678828283743402771123091479752720830940685018737061532386408261484048113243207497731989245048404468172381543418489867374001892711224469049990690780103228805572404618789720842621842761620166090339451848234280946515851933486793771910774992223119735437656001621525539779482602756876396206701633501539525023255671331437273611134513703383842306622432939247194751768450356196587776185082986383457799441141559778250000882079130226268684806908201717625948217018874978275385408600048263381998974718278974908312147740655493864311575468427621, 3898089938005275021296170022037423320285111932455851166548910353853960370743152054977762535636347244551234030531543364405778420412887348362025901333972553393735512056344668398366533352432192229148140333184699684942127941157748851924095161110380412840321630127830847565092886949814783003034859600562988917445766067679117913050360435734478191087955111561210736627616443546725614991939472228484662908567375753414290553383023031956577586904919685527786850205911155967050990146453965381310447841817319779971517030381208919709181230174879245842242103894852321279244042161315271795469278721216730539360387200437160473960977) \n",
      "\n",
      "\n",
      "My secret key:\n",
      " (157680540804141614108614038968988747753021856379747771084553461990323769479537529138294918997636558190505366146915133933709967807078511969482846591040446220933375329891524403225907014056318247403745604993983314802249404427335363307981815696397251935931416372126972609093606599782831004005587165399794377662211, 138068686233458272968962312861889611022534477726401808202136623897979862044002020486031246175704072170628689623947852375123160287085873802393609929121823734892494795029277330842373904805177775505315545330164223074503661641914634876299607959712978014733979221150960882454654001478863186685107087108157392680311, 21770745113409042754842294825583542565284924800169676920887290747604014309825933297503678828283743402771123091479752720830940685018737061532386408261484048113243207497731989245048404468172381543418489867374001892711224469049990690780103228805572404618789720842621842761620166090339451848234280946515851933486498022683737392336042159085825123262749983445376453177589706120813329870015985473631345166263932980773379647612979320313599811153030365996573899676425506229257116258536997707073278859388504859170069075944537269031448651556698218834593554619275178649382867788721041226730714307050453549964799611803623698085100, 5062294740120040243204559456097425073130027422823459772805154231055862674061383358235791927182487449901200734561101840117552855072451770316772242158127981568432170491957252971296220105761241233892713486717794338148212793523999306515290067863439017887929873090535234600115141738895434444525776883221481658471898338769558998166334126188428364330588657617711950900824320274091121005375933656115748266176423965913243846180701208436568817908388241859374854619872219842091027390335975245740654699679507964434601866640246078159545116594952700558342678215799352719442819084208779341297399163596484848730510625596026774365813)\n"
     ]
    }
   ],
   "source": [
    "def Key_Generator(n):\n",
    "    p= Generator(n,k=50)\n",
    "    q =Generator(n,k=50)\n",
    "    while p==q:\n",
    "        q =Generator(n,k=50)\n",
    "    N=p*q\n",
    "    phi=(p-1)*(q-1)\n",
    "    e=randint(2,phi-2)\n",
    "    while gcd(e,phi)!=1:\n",
    "           e=randint(2,phi-2)\n",
    "    d=inverses(e,phi)\n",
    "    SecretKey=(p,q,phi,d)\n",
    "    PublicKey=(N,e)\n",
    "    return SecretKey,PublicKey\n",
    "Security_Key,PublicKey=Key_Generator(2048)\n",
    "print('My public key:\\n ', PublicKey, '\\n\\n\\nMy secret key:\\n',Security_Key)"
   ]
  },
  {
   "cell_type": "markdown",
   "id": "foreign-subscriber",
   "metadata": {},
   "source": [
    "# Encription Function"
   ]
  },
  {
   "cell_type": "code",
   "execution_count": 7,
   "id": "gorgeous-briefing",
   "metadata": {},
   "outputs": [],
   "source": [
    "def Encryption(Message,PublicKey):\n",
    "    return power_mod(Message,PublicKey[1],PublicKey[0])"
   ]
  },
  {
   "cell_type": "markdown",
   "id": "royal-branch",
   "metadata": {},
   "source": [
    "# Decription Function"
   ]
  },
  {
   "cell_type": "code",
   "execution_count": 8,
   "id": "revised-brake",
   "metadata": {},
   "outputs": [],
   "source": [
    "def Dcryption(y,Security_Key):\n",
    "    N=int(Security_Key[0]*Security_Key[1])\n",
    "    return power_mod(y,int(Security_Key[3]),N)"
   ]
  },
  {
   "cell_type": "markdown",
   "id": "initial-socket",
   "metadata": {},
   "source": [
    "# Testing the functions"
   ]
  },
  {
   "cell_type": "code",
   "execution_count": 9,
   "id": "maritime-stock",
   "metadata": {},
   "outputs": [
    {
     "name": "stdout",
     "output_type": "stream",
     "text": [
      "Original Message:\n",
      " Let me use your computer! \n",
      "\n",
      "Conversion Number:\n",
      " 22153010231510312915103525312810132523263130152837 \n",
      "\n",
      "Encription:\n",
      " 6983211508376556502286332320407030222634853257319265334387828836713928580467658687570995226813532091333618433188706581449219516016429577441516738965521995307924710546895716480364403951105054242135595295509143364061812076943973408184130464797607259788091602364644044346546005878350046281371623971362595973459682219114808333771863931602232497440095700172833683788071212718063266319772592849304865487691639303181949869099018791075757760165246812917036134144924697917845129478869333000485063311260991169012244304091707067784563566815482464739507392741294399923199029350344258492965472192915362354514635477452007690614676\n",
      "\n",
      "\n",
      "Decription:\n",
      " 22153010231510312915103525312810132523263130152837 \n",
      "\n",
      "Plain Text again:\n",
      " LET ME USE YOUR COMPUTER!\n"
     ]
    }
   ],
   "source": [
    "message='Let me use your computer!'\n",
    "#message=input('Enter your text to test:')\n",
    "\n",
    "a=int(Cipher(message))\n",
    "b=Encryption(a,PublicKey)\n",
    "c=Dcryption(b,Security_Key)\n",
    "d=Plain_text(c)\n",
    "print('Original Message:\\n',message, '\\n\\nConversion Number:\\n',a,'\\n\\nEncription:\\n',b)\n",
    "print('\\n\\nDecription:\\n',c, \"\\n\\nPlain Text again:\\n\",d)"
   ]
  },
  {
   "cell_type": "markdown",
   "id": "normal-papua",
   "metadata": {},
   "source": [
    "# Exercise 2\n",
    "This code will help to read a given message using my generated secret key, and my function called Plain_text which is in first cells."
   ]
  },
  {
   "cell_type": "code",
   "execution_count": 10,
   "id": "furnished-regular",
   "metadata": {},
   "outputs": [],
   "source": [
    "y=20211759043626737649849484242721820807367386205602051889392340800322880642353734048396708562040807995279484274610879853718107726223500679032373295601458267292420686387173388320151704861160697624321587449473976860322732152542219806060975723222729130520152145536473212127574510353953706961449174619764961296291397775292\n",
    "N =23705664828679018910727857380010466581421592928409872469325703617631771110069795968557199076070369213289376898389944735544892317053786376370799208582883810697459113749844946826641821898540561333219729436814792543369180840218727855470894841887422055476227683396829087248884758048537181024004601389942391909876756259491\n",
    "public_key=(N,65537)\n",
    "e=65537\n",
    "p=2**521-1\n",
    "q=N//p\n",
    "phiN=(p-1)*(q-1)\n",
    "d=inverses(e,phiN)\n",
    "secret_key=(p,q,phiN,d)\n",
    "Decrypted_Message=Dcryption(y,secret_key)"
   ]
  },
  {
   "cell_type": "markdown",
   "id": "emotional-certificate",
   "metadata": {},
   "source": [
    "# Decryption of given message"
   ]
  },
  {
   "cell_type": "code",
   "execution_count": 11,
   "id": "4e22dad2",
   "metadata": {},
   "outputs": [
    {
     "name": "stdout",
     "output_type": "stream",
     "text": [
      "Given message was:\n"
     ]
    },
    {
     "data": {
      "text/plain": [
       "'ARAHABAINA NAHAZO ISA DIMY IANAO FARAFAHAKELINY'"
      ]
     },
     "execution_count": 11,
     "metadata": {},
     "output_type": "execute_result"
    }
   ],
   "source": [
    "print('Given message was:')\n",
    "Plain_text(Decrypted_Message)"
   ]
  }
 ],
 "metadata": {
  "kernelspec": {
   "display_name": "SageMath 9.2",
   "language": "sage",
   "name": "sagemath"
  },
  "language_info": {
   "codemirror_mode": {
    "name": "ipython",
    "version": 3
   },
   "file_extension": ".py",
   "mimetype": "text/x-python",
   "name": "python",
   "nbconvert_exporter": "python",
   "pygments_lexer": "ipython3",
   "version": "3.9.2"
  }
 },
 "nbformat": 4,
 "nbformat_minor": 5
}
